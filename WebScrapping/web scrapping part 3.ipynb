{
 "cells": [
  {
   "cell_type": "code",
   "execution_count": 1,
   "metadata": {},
   "outputs": [],
   "source": [
    "import requests\n",
    "import bs4"
   ]
  },
  {
   "cell_type": "code",
   "execution_count": 2,
   "metadata": {},
   "outputs": [],
   "source": [
    "res  = requests.get('https://www.learncodeonline.in/')"
   ]
  },
  {
   "cell_type": "code",
   "execution_count": 5,
   "metadata": {},
   "outputs": [
    {
     "data": {
      "text/plain": [
       "requests.models.Response"
      ]
     },
     "execution_count": 5,
     "metadata": {},
     "output_type": "execute_result"
    }
   ],
   "source": [
    "type(res)"
   ]
  },
  {
   "cell_type": "code",
   "execution_count": 9,
   "metadata": {},
   "outputs": [],
   "source": [
    "soup = bs4.BeautifulSoup(res.text,\"html.parser\")"
   ]
  },
  {
   "cell_type": "code",
   "execution_count": 15,
   "metadata": {},
   "outputs": [
    {
     "name": "stdout",
     "output_type": "stream",
     "text": [
      "https://learncodeonline.in/\n",
      "https://learncodeonline.in/\n",
      "https://courses.learncodeonline.in\n",
      "\n",
      "\n",
      "\n",
      "https://learncodeonline.in/login/\n",
      "https://courses.learncodeonline.in/learn\n",
      "https://www.youtube.com/watch?v=vG8etlO2uq8\n",
      "https://play.google.com/store/apps/details?id=in.learncodeonline.lco&hl=en\n",
      "https://itunes.apple.com/WebObjects/MZStore.woa/wa/viewSoftware?id=1273049320&mt=8\n",
      "https://courses.learncodeonline.in/learn\n",
      "\n",
      "\n",
      "https://www.youtube.com/watch?v=q9YRq_trpGs\n",
      "https://learncodeonline.in/login\n",
      "https://www.youtube.com/watch?v=3R6KnQLvZNI\n",
      "https://courses.learncodeonline.in/newsfeed\n",
      "https://uicolorpicker.com\n",
      "https://fb.com/hiteshchoudharypage\n",
      "https://instagram.com/hiteshchoudharyofficial\n",
      "https://www.facebook.com/sakshamchoudharypage/\n",
      "https://www.instagram.com/sakshamthecomputerguy/\n",
      "https://www.linkedin.com/in/nativeaditya/\n",
      "https://www.instagram.com/dev.raushanjha/\n",
      "https://www.instagram.com/programmer_sam/\n",
      "https://github.com/samprits5\n",
      "https://play.google.com/store/apps/details?id=in.learncodeonline.lco&hl=en\n",
      "https://apps.apple.com/app/id1273049320\n"
     ]
    }
   ],
   "source": [
    "for link in soup.find_all('a',href=True):\n",
    "    if(link['href'][:1]=='#'):\n",
    "        break\n",
    "    elif(link['href'][:2]=='./'):\n",
    "        link['href'].replace('./',\"https://\")\n",
    "    else:    \n",
    "        print(link['href'])"
   ]
  },
  {
   "cell_type": "code",
   "execution_count": 29,
   "metadata": {},
   "outputs": [
    {
     "name": "stdout",
     "output_type": "stream",
     "text": [
      "LearnCodeOnline \n",
      "Home to Learn Programming!\n",
      "Some Facts\n",
      "About New Features\n",
      "Ui Color Picker\n",
      "We’ve created this handy Tool for programmers to select awesome color, without giving much thought. Choose anything here, It will look good. Pinky promise! \n",
      "Instagram\n",
      " Youtube Live on Saturday\n"
     ]
    }
   ],
   "source": [
    "for i in soup.select('.text-white'):\n",
    "    print(i.getText())"
   ]
  },
  {
   "cell_type": "code",
   "execution_count": null,
   "metadata": {},
   "outputs": [],
   "source": []
  }
 ],
 "metadata": {
  "kernelspec": {
   "display_name": "Python 3",
   "language": "python",
   "name": "python3"
  },
  "language_info": {
   "codemirror_mode": {
    "name": "ipython",
    "version": 3
   },
   "file_extension": ".py",
   "mimetype": "text/x-python",
   "name": "python",
   "nbconvert_exporter": "python",
   "pygments_lexer": "ipython3",
   "version": "3.7.3"
  }
 },
 "nbformat": 4,
 "nbformat_minor": 2
}
