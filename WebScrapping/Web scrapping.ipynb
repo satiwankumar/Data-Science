{
 "cells": [
  {
   "cell_type": "code",
   "execution_count": 27,
   "metadata": {},
   "outputs": [],
   "source": [
    "from urllib.request import urlopen as uReq\n",
    "import requests\n",
    "from bs4 import BeautifulSoup as soup"
   ]
  },
  {
   "cell_type": "code",
   "execution_count": 28,
   "metadata": {},
   "outputs": [],
   "source": [
    " my_url=\"https://www.newegg.com/p/pl?d=graphics&N=100006662&name=Video%20Cards%20%26%20Video%20Devices\"\n",
    "    "
   ]
  },
  {
   "cell_type": "code",
   "execution_count": 57,
   "metadata": {},
   "outputs": [
    {
     "data": {
      "text/plain": [
       "requests.models.Response"
      ]
     },
     "execution_count": 57,
     "metadata": {},
     "output_type": "execute_result"
    }
   ],
   "source": [
    "#opeining up connection and Grabbing the page\n",
    "res = requests.get(my_url)\n",
    "type(res)"
   ]
  },
  {
   "cell_type": "code",
   "execution_count": 58,
   "metadata": {},
   "outputs": [
    {
     "data": {
      "text/plain": [
       "bs4.BeautifulSoup"
      ]
     },
     "execution_count": 58,
     "metadata": {},
     "output_type": "execute_result"
    }
   ],
   "source": [
    "#HTML PARSING #takes 2 para objname and second how u want to structure data\n",
    "page_soup = soup(page_html,\"html.parser\")\n",
    "type(page_soup)"
   ]
  },
  {
   "cell_type": "code",
   "execution_count": 56,
   "metadata": {},
   "outputs": [
    {
     "data": {
      "text/plain": [
       "'graphics, Video Cards & Video Devices, Components - Newegg.com'"
      ]
     },
     "execution_count": 56,
     "metadata": {},
     "output_type": "execute_result"
    }
   ],
   "source": [
    "h1 = page_soup.select('title')\n",
    "h1[0].getText()"
   ]
  },
  {
   "cell_type": "code",
   "execution_count": 6,
   "metadata": {},
   "outputs": [],
   "source": [
    "#grab each product\n",
    "Container = page_soup.findAll(\"div\",{\"class\":\"item-container\"})"
   ]
  },
  {
   "cell_type": "code",
   "execution_count": 14,
   "metadata": {},
   "outputs": [
    {
     "data": {
      "text/plain": [
       "<div class=\"item-container\" data-itemnumber=\"9SIAD4B9B29657\">\n",
       "<a class=\"item-img\" href=\"https://www.newegg.com/black-dell-alienware-25-aw2518hf-24-5/p/N82E16824260316?cm_sp=SearchSuccess-_-INFOCARD-_-graphics-_-9SIAD4B9B29657-_-1&amp;Description=graphics\">\n",
       "<img 1080,=\"\" 1920=\"\" 1ms=\"\" 240=\"\" 3.0x4\"=\"\" alienfx,=\"\" alt=\"Alienware AW2518HF 24.5\" displayport,=\"\" freesync=\"\" gaming=\"\" hdmi,=\"\" hz,=\"\" monitor,=\"\" response=\"\" src=\"//c1.neweggimages.com/ProductImageCompressAll300/24-260-316-V01.jpg\" time,=\"\" title=\"Alienware AW2518HF 24.5\" usb=\"\" x=\"\"/>\n",
       "</a>\n",
       "<div class=\"item-info\">\n",
       "<div class=\"item-branding\">\n",
       "<a class=\"item-rating\" href=\"https://www.newegg.com/black-dell-alienware-25-aw2518hf-24-5/p/N82E16824260316?cm_sp=SearchSuccess-_-INFOCARD-_-graphics-_-9SIAD4B9B29657-_-1&amp;Description=graphics&amp;IsFeedbackTab=true#scrollFullInfo\"><i class=\"rating rating-4\"></i><span class=\"item-rating-num\">(30)</span></a>\n",
       "</div>\n",
       "<a class=\"item-title\" href=\"https://www.newegg.com/black-dell-alienware-25-aw2518hf-24-5/p/N82E16824260316?cm_sp=SearchSuccess-_-INFOCARD-_-graphics-_-9SIAD4B9B29657-_-1&amp;Description=graphics\">\n",
       "                            \n",
       "                            Alienware AW2518HF 24.5\" FreeSync Gaming Monitor, 1920 x 1080, 240 Hz, 1ms Re...\n",
       "                        </a>\n",
       "</div>\n",
       "</div>"
      ]
     },
     "execution_count": 14,
     "metadata": {},
     "output_type": "execute_result"
    }
   ],
   "source": [
    "Container[0]\n"
   ]
  },
  {
   "cell_type": "code",
   "execution_count": 8,
   "metadata": {},
   "outputs": [],
   "source": [
    "contain = Container[0]"
   ]
  },
  {
   "cell_type": "code",
   "execution_count": 19,
   "metadata": {},
   "outputs": [
    {
     "data": {
      "text/plain": [
       "<a class=\"item-rating\" href=\"https://www.newegg.com/black-dell-alienware-25-aw2518hf-24-5/p/N82E16824260316?cm_sp=SearchSuccess-_-INFOCARD-_-graphics-_-9SIAD4B9B29657-_-1&amp;Description=graphics&amp;IsFeedbackTab=true#scrollFullInfo\"><i class=\"rating rating-4\"></i><span class=\"item-rating-num\">(30)</span></a>"
      ]
     },
     "execution_count": 19,
     "metadata": {},
     "output_type": "execute_result"
    }
   ],
   "source": [
    "contain.div.div.a\n"
   ]
  },
  {
   "cell_type": "code",
   "execution_count": null,
   "metadata": {},
   "outputs": [],
   "source": []
  },
  {
   "cell_type": "code",
   "execution_count": null,
   "metadata": {},
   "outputs": [],
   "source": []
  }
 ],
 "metadata": {
  "kernelspec": {
   "display_name": "Python 3",
   "language": "python",
   "name": "python3"
  },
  "language_info": {
   "codemirror_mode": {
    "name": "ipython",
    "version": 3
   },
   "file_extension": ".py",
   "mimetype": "text/x-python",
   "name": "python",
   "nbconvert_exporter": "python",
   "pygments_lexer": "ipython3",
   "version": "3.7.3"
  }
 },
 "nbformat": 4,
 "nbformat_minor": 2
}
