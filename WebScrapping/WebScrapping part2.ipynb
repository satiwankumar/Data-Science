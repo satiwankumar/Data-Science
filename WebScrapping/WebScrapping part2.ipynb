{
 "cells": [
  {
   "cell_type": "code",
   "execution_count": 32,
   "metadata": {},
   "outputs": [],
   "source": [
    "import bs4 \n",
    "import requests \n",
    "import pandas as pd"
   ]
  },
  {
   "cell_type": "code",
   "execution_count": 6,
   "metadata": {},
   "outputs": [
    {
     "data": {
      "text/plain": [
       "requests.models.Response"
      ]
     },
     "execution_count": 6,
     "metadata": {},
     "output_type": "execute_result"
    }
   ],
   "source": [
    "res = requests.get('https://en.wikipedia.org/wiki/Machine_learning')\n",
    "type(res)"
   ]
  },
  {
   "cell_type": "code",
   "execution_count": 39,
   "metadata": {},
   "outputs": [
    {
     "data": {
      "text/plain": [
       "bs4.BeautifulSoup"
      ]
     },
     "execution_count": 39,
     "metadata": {},
     "output_type": "execute_result"
    }
   ],
   "source": [
    "soup = bs4.BeautifulSoup(res.text,'html.parser')\n",
    "type(soup)"
   ]
  },
  {
   "cell_type": "code",
   "execution_count": 40,
   "metadata": {},
   "outputs": [],
   "source": [
    "# headers = soup.select('.mw-headline')\n",
    "# list = []\n",
    "# for i,j in enumerate(headers):\n",
    "#     list.append(j.getText())\n",
    "# list    "
   ]
  },
  {
   "cell_type": "code",
   "execution_count": 41,
   "metadata": {},
   "outputs": [],
   "source": [
    "# pd.DataFrame(list).head()"
   ]
  },
  {
   "cell_type": "code",
   "execution_count": 50,
   "metadata": {},
   "outputs": [
    {
     "name": "stdout",
     "output_type": "stream",
     "text": [
      "Overview\n",
      "Machine learning tasks\n",
      "History and relationships to other fields\n",
      "Relation to data mining\n",
      "Relation to optimization\n",
      "Relation to statistics\n",
      "Theory\n",
      "Approaches\n",
      "Types of learning algorithms\n",
      "Supervised learning\n",
      "Unsupervised learning\n",
      "Reinforcement learning\n",
      "Feature learning\n",
      "Sparse dictionary learning\n",
      "Anomaly detection\n",
      "Association rules\n",
      "Models\n",
      "Artificial neural networks\n",
      "Decision trees\n",
      "Support vector machines\n",
      "Bayesian networks\n",
      "Genetic algorithms\n",
      "Training models\n",
      "Federated learning\n",
      "Applications\n",
      "Limitations\n",
      "Bias\n",
      "Model assessments\n",
      "Ethics\n",
      "Software\n",
      "Free and open-source software\n",
      "Proprietary software with free and open-source editions\n",
      "Proprietary software\n",
      "Journals\n",
      "Conferences\n",
      "See also\n",
      "References\n",
      "Further reading\n",
      "External links\n"
     ]
    }
   ],
   "source": [
    "ContentTitle=soup.select('.toctext')\n",
    "for i,j in enumerate(ContentTitle):\n",
    "    print(j.getText())\n",
    "  "
   ]
  },
  {
   "cell_type": "code",
   "execution_count": null,
   "metadata": {},
   "outputs": [],
   "source": []
  }
 ],
 "metadata": {
  "kernelspec": {
   "display_name": "Python 3",
   "language": "python",
   "name": "python3"
  },
  "language_info": {
   "codemirror_mode": {
    "name": "ipython",
    "version": 3
   },
   "file_extension": ".py",
   "mimetype": "text/x-python",
   "name": "python",
   "nbconvert_exporter": "python",
   "pygments_lexer": "ipython3",
   "version": "3.7.3"
  }
 },
 "nbformat": 4,
 "nbformat_minor": 2
}
