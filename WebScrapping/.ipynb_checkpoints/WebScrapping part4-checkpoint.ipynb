{
 "cells": [
  {
   "cell_type": "code",
   "execution_count": 25,
   "metadata": {},
   "outputs": [],
   "source": [
    "import requests\n",
    "import bs4 as soup\n",
    "import pandas as pd"
   ]
  },
  {
   "cell_type": "code",
   "execution_count": 26,
   "metadata": {},
   "outputs": [],
   "source": [
    "res = requests.get('https://www.flipkart.com/search?q=iphone&otracker=search&otracker1=search&marketplace=FLIPKART&as-show=off&as=off')"
   ]
  },
  {
   "cell_type": "code",
   "execution_count": 27,
   "metadata": {},
   "outputs": [
    {
     "data": {
      "text/plain": [
       "requests.models.Response"
      ]
     },
     "execution_count": 27,
     "metadata": {},
     "output_type": "execute_result"
    }
   ],
   "source": [
    "type(res)"
   ]
  },
  {
   "cell_type": "code",
   "execution_count": 28,
   "metadata": {},
   "outputs": [],
   "source": [
    "page_soup = soup.BeautifulSoup(res.text,'html.parser')"
   ]
  },
  {
   "cell_type": "code",
   "execution_count": 29,
   "metadata": {},
   "outputs": [
    {
     "data": {
      "text/plain": [
       "bs4.BeautifulSoup"
      ]
     },
     "execution_count": 29,
     "metadata": {},
     "output_type": "execute_result"
    }
   ],
   "source": [
    "type(page_soup)"
   ]
  },
  {
   "cell_type": "code",
   "execution_count": 30,
   "metadata": {},
   "outputs": [
    {
     "data": {
      "text/plain": [
       "<div class=\"col col-7-12\"><div class=\"_3wU53n\">Apple iPhone 6s (Gold, 32 GB)</div><div class=\"niH0FQ\"><span class=\"_2_KrJI\" id=\"productRating_LSTMOBEN2YYQH8PSYXG4TGFKX_MOBEN2YYQH8PSYXG_\"><div class=\"hGSR34\">4.5<img class=\"_2lQ_WZ\" src=\"data:image/svg+xml;base64,PHN2ZyB4bWxucz0iaHR0cDovL3d3dy53My5vcmcvMjAwMC9zdmciIHdpZHRoPSIxMyIgaGVpZ2h0PSIxMiI+PHBhdGggZmlsbD0iI0ZGRiIgZD0iTTYuNSA5LjQzOWwtMy42NzQgMi4yMy45NC00LjI2LTMuMjEtMi44ODMgNC4yNTQtLjQwNEw2LjUuMTEybDEuNjkgNC4wMSA0LjI1NC40MDQtMy4yMSAyLjg4Mi45NCA0LjI2eiIvPjwvc3ZnPg==\"/></div></span><span class=\"_38sUEc\"><span><span>85,766 Ratings </span><span class=\"_1VpSqZ\">&amp;</span><span> 8,940 Reviews</span></span></span></div><div class=\"_3ULzGw\"><ul class=\"vFw0gD\"><li class=\"tVe95H\">32 GB ROM |</li><li class=\"tVe95H\">11.94 cm (4.7 inch) Retina HD Display</li><li class=\"tVe95H\">12MP Rear Camera | 5MP Front Camera</li><li class=\"tVe95H\">Apple A9 64-bit processor and Embedded M9 Motion Co-processor</li><li class=\"tVe95H\">Brand Warranty of 1 Year</li></ul></div></div>"
      ]
     },
     "execution_count": 30,
     "metadata": {},
     "output_type": "execute_result"
    }
   ],
   "source": [
    "contain = page_soup.findAll(\"div\",{\"class\" : \"col col-7-12\"})\n",
    "contain[0]"
   ]
  },
  {
   "cell_type": "code",
   "execution_count": 7,
   "metadata": {},
   "outputs": [
    {
     "name": "stdout",
     "output_type": "stream",
     "text": [
      "Apple iPhone 6s (Gold, 32 GB)\n",
      "Apple iPhone 6s (Space Grey, 32 GB)\n",
      "Apple iPhone 6s (Rose Gold, 32 GB)\n",
      "Apple iPhone XR (Black, 128 GB)\n",
      "Apple iPhone X (Space Gray, 64 GB)\n",
      "Apple iPhone XR (White, 64 GB)\n",
      "Apple iPhone XR (White, 128 GB)\n",
      "Apple iPhone XR ((PRODUCT)RED, 128 GB)\n",
      "Apple iPhone XR (Black, 64 GB)\n",
      "Apple iPhone XR ((PRODUCT)RED, 64 GB)\n",
      "Apple iPhone XR (Blue, 64 GB)\n",
      "Apple iPhone 8 (Silver, 64 GB)\n",
      "Apple iPhone 8 (Gold, 64 GB)\n",
      "Apple iPhone 6s (Silver, 32 GB)\n",
      "Apple iPhone 8 Plus (Gold, 256 GB)\n",
      "Apple iPhone 8 (PRODUCT)RED (Red, 64 GB)\n",
      "Apple iPhone 8 Plus (Gold, 64 GB)\n",
      "Apple iPhone 8 Plus (Silver, 256 GB)\n",
      "Apple iPhone 6s Plus (Gold, 32 GB)\n",
      "Apple iPhone 8 (Space Grey, 64 GB)\n",
      "Apple iPhone 6s Plus (Silver, 16 GB)\n",
      "Apple iPhone 8 Plus (Silver, 64 GB)\n",
      "Apple iPhone XR (Coral, 64 GB)\n",
      "Apple iPhone 8 Plus (PRODUCT)RED (Red, 256 GB)\n"
     ]
    }
   ],
   "source": [
    "\n",
    "for i in range(len(contain)):\n",
    "    for j in contain[i].findAll(\"div\",{\"class\":\"_3wU53n\"}):\n",
    "        print(j.getText())\n",
    "\n"
   ]
  },
  {
   "cell_type": "code",
   "execution_count": 8,
   "metadata": {},
   "outputs": [
    {
     "name": "stdout",
     "output_type": "stream",
     "text": [
      "4.5\n",
      "4.5\n",
      "4.5\n",
      "4.6\n",
      "4.6\n",
      "4.6\n",
      "4.6\n",
      "4.6\n",
      "4.6\n",
      "4.6\n",
      "4.6\n",
      "4.6\n",
      "4.6\n",
      "4.5\n",
      "4.6\n",
      "4.7\n",
      "4.6\n",
      "4.6\n",
      "4.4\n",
      "4.6\n",
      "4.4\n",
      "4.6\n",
      "4.6\n",
      "4.6\n"
     ]
    }
   ],
   "source": [
    "for i in range(len(contain)):\n",
    "    for j in contain[i].findAll(\"div\",{\"class\":\"hGSR34\"}):\n",
    "        print(j.getText())\n"
   ]
  },
  {
   "cell_type": "code",
   "execution_count": 9,
   "metadata": {},
   "outputs": [
    {
     "data": {
      "text/plain": [
       "19"
      ]
     },
     "execution_count": 9,
     "metadata": {},
     "output_type": "execute_result"
    }
   ],
   "source": []
  },
  {
   "cell_type": "code",
   "execution_count": 41,
   "metadata": {},
   "outputs": [],
   "source": [
    "filename = \"products.csv\"\n",
    "f= open(filename,\"w\")\n",
    "headers =\"productname,Rating\\n\"\n",
    "f.write(headers)\n",
    "for i in contain:\n",
    "    name = i.findAll(\"div\",{\"class\":\"_3wU53n\"})\n",
    "    productname = name[0].text.strip()\n",
    "    Rating_raw = i.findAll(\"div\",{\"class\":\"hGSR34\"})\n",
    "    Rating = Rating_raw[0].text.strip()\n",
    "    f.write(productname+\",\"+Rating+\"\\n\")\n",
    "f.close()\n",
    "   \n",
    "    \n"
   ]
  },
  {
   "cell_type": "code",
   "execution_count": 39,
   "metadata": {},
   "outputs": [],
   "source": [
    "df= pd.read_csv('products.csv')\n",
    "a = pd.DataFrame(df)\n",
    "\n",
    "\n"
   ]
  },
  {
   "cell_type": "code",
   "execution_count": null,
   "metadata": {},
   "outputs": [],
   "source": []
  },
  {
   "cell_type": "code",
   "execution_count": null,
   "metadata": {},
   "outputs": [],
   "source": []
  },
  {
   "cell_type": "code",
   "execution_count": null,
   "metadata": {},
   "outputs": [],
   "source": []
  },
  {
   "cell_type": "code",
   "execution_count": null,
   "metadata": {},
   "outputs": [],
   "source": []
  },
  {
   "cell_type": "code",
   "execution_count": null,
   "metadata": {},
   "outputs": [],
   "source": []
  }
 ],
 "metadata": {
  "kernelspec": {
   "display_name": "Python 3",
   "language": "python",
   "name": "python3"
  },
  "language_info": {
   "codemirror_mode": {
    "name": "ipython",
    "version": 3
   },
   "file_extension": ".py",
   "mimetype": "text/x-python",
   "name": "python",
   "nbconvert_exporter": "python",
   "pygments_lexer": "ipython3",
   "version": "3.7.3"
  }
 },
 "nbformat": 4,
 "nbformat_minor": 2
}
